{
  "cells": [
    {
      "cell_type": "markdown",
      "metadata": {
        "id": "view-in-github",
        "colab_type": "text"
      },
      "source": [
        "<a href=\"https://colab.research.google.com/github/MelisaSherchan/Programming-Python-/blob/main/Week3Class.ipynb\" target=\"_parent\"><img src=\"https://colab.research.google.com/assets/colab-badge.svg\" alt=\"Open In Colab\"/></a>"
      ]
    },
    {
      "cell_type": "code",
      "source": [
        "'10'>'9'"
      ],
      "metadata": {
        "id": "Y4PJtEa5iK-5",
        "outputId": "926ca2d5-c552-4afd-a692-48b8642c4db0",
        "colab": {
          "base_uri": "https://localhost:8080/"
        }
      },
      "execution_count": null,
      "outputs": [
        {
          "output_type": "execute_result",
          "data": {
            "text/plain": [
              "False"
            ]
          },
          "metadata": {},
          "execution_count": 1
        }
      ]
    },
    {
      "cell_type": "code",
      "source": [
        "if x==5:\n",
        "  pass\n",
        "else:\n",
        "  pass"
      ],
      "metadata": {
        "id": "cD1vp1u-igg3",
        "colab": {
          "base_uri": "https://localhost:8080/",
          "height": 190
        },
        "outputId": "a7178add-2d73-465f-c145-2ad9ad02e7f9"
      },
      "execution_count": null,
      "outputs": [
        {
          "output_type": "error",
          "ename": "NameError",
          "evalue": "name 'CONDITION' is not defined",
          "traceback": [
            "\u001b[0;31m---------------------------------------------------------------------------\u001b[0m",
            "\u001b[0;31mNameError\u001b[0m                                 Traceback (most recent call last)",
            "\u001b[0;32m/tmp/ipython-input-1376173843.py\u001b[0m in \u001b[0;36m<cell line: 0>\u001b[0;34m()\u001b[0m\n\u001b[0;32m----> 1\u001b[0;31m \u001b[0;32mif\u001b[0m \u001b[0mCONDITION\u001b[0m\u001b[0;34m:\u001b[0m\u001b[0;34m\u001b[0m\u001b[0;34m\u001b[0m\u001b[0m\n\u001b[0m\u001b[1;32m      2\u001b[0m   \u001b[0;32mpass\u001b[0m\u001b[0;34m\u001b[0m\u001b[0;34m\u001b[0m\u001b[0m\n\u001b[1;32m      3\u001b[0m \u001b[0;32melse\u001b[0m\u001b[0;34m:\u001b[0m\u001b[0;34m\u001b[0m\u001b[0;34m\u001b[0m\u001b[0m\n\u001b[1;32m      4\u001b[0m   \u001b[0;32mpass\u001b[0m\u001b[0;34m\u001b[0m\u001b[0;34m\u001b[0m\u001b[0m\n",
            "\u001b[0;31mNameError\u001b[0m: name 'CONDITION' is not defined"
          ]
        }
      ]
    },
    {
      "cell_type": "code",
      "source": [
        "\"apple\" <\"APPLE\""
      ],
      "metadata": {
        "colab": {
          "base_uri": "https://localhost:8080/"
        },
        "id": "47jfC7J9lHOX",
        "outputId": "64cc247f-7920-45ec-ca4a-d8a7e83e383b"
      },
      "execution_count": null,
      "outputs": [
        {
          "output_type": "execute_result",
          "data": {
            "text/plain": [
              "False"
            ]
          },
          "metadata": {},
          "execution_count": 4
        }
      ]
    },
    {
      "cell_type": "code",
      "source": [
        "\"a\"< \"b\""
      ],
      "metadata": {
        "colab": {
          "base_uri": "https://localhost:8080/"
        },
        "id": "lSiEiTInnj5S",
        "outputId": "26ded4b0-2515-4b0f-9439-411463adb50f"
      },
      "execution_count": null,
      "outputs": [
        {
          "output_type": "execute_result",
          "data": {
            "text/plain": [
              "True"
            ]
          },
          "metadata": {},
          "execution_count": 5
        }
      ]
    },
    {
      "cell_type": "code",
      "source": [
        "\"apple\" < \"applE\""
      ],
      "metadata": {
        "colab": {
          "base_uri": "https://localhost:8080/"
        },
        "id": "oO4aAI-TofBG",
        "outputId": "b2ecfd98-410d-4d01-e11b-d6eceba14c08"
      },
      "execution_count": null,
      "outputs": [
        {
          "output_type": "execute_result",
          "data": {
            "text/plain": [
              "False"
            ]
          },
          "metadata": {},
          "execution_count": 6
        }
      ]
    },
    {
      "cell_type": "markdown",
      "source": [
        "1/ if the number divides by 3 print FIZZ\n",
        "2/ if the number divides by 5 print BUZZ\n",
        "3/ if the number divides by 3 and 5 print FIZZBUZ\n",
        "otherwise print the number"
      ],
      "metadata": {
        "id": "wzuhb1G7qKJ9"
      }
    },
    {
      "cell_type": "code",
      "source": [
        "for i in range(12,16):\n",
        "  if i%5==0 and i%3==0:\n",
        "    print(\"FIZZBUZZ\")\n",
        "  elif i%3==0:\n",
        "    print(\"FIZZ\")\n",
        "  elif i%5==0:\n",
        "    print(\"BUZZ\")\n",
        "  else:\n",
        "    print(i)"
      ],
      "metadata": {
        "colab": {
          "base_uri": "https://localhost:8080/"
        },
        "id": "zNDFJ8jmp6HL",
        "outputId": "045c26fd-a927-4434-9fc9-2076305f4400"
      },
      "execution_count": 1,
      "outputs": [
        {
          "output_type": "stream",
          "name": "stdout",
          "text": [
            "FIZZ\n",
            "13\n",
            "14\n",
            "FIZZBUZZ\n"
          ]
        }
      ]
    },
    {
      "cell_type": "code",
      "source": [
        "x = True\n",
        "not x"
      ],
      "metadata": {
        "colab": {
          "base_uri": "https://localhost:8080/"
        },
        "id": "kB8cd9ZQrwkb",
        "outputId": "598efc78-5006-453a-9211-57898910f1fd"
      },
      "execution_count": null,
      "outputs": [
        {
          "output_type": "execute_result",
          "data": {
            "text/plain": [
              "False"
            ]
          },
          "metadata": {},
          "execution_count": 8
        }
      ]
    },
    {
      "cell_type": "code",
      "source": [
        "print(bool(1))\n",
        "print(bool(0))\n",
        "print(bool(\"hello\"))\n",
        "print(bool(\"\"))\n",
        "print(bool(0.0))\n",
        "print(bool(3.14))"
      ],
      "metadata": {
        "colab": {
          "base_uri": "https://localhost:8080/"
        },
        "id": "5DONU0LDr_iQ",
        "outputId": "d8b53418-1570-4959-cf0a-419cc18d8234"
      },
      "execution_count": null,
      "outputs": [
        {
          "output_type": "stream",
          "name": "stdout",
          "text": [
            "True\n",
            "False\n",
            "True\n",
            "False\n",
            "False\n",
            "True\n"
          ]
        }
      ]
    },
    {
      "cell_type": "code",
      "source": [
        "x = \"hello\"\n",
        "print(len(x))"
      ],
      "metadata": {
        "colab": {
          "base_uri": "https://localhost:8080/"
        },
        "id": "qudoVH1NtZIC",
        "outputId": "1bf0521d-47a9-458d-c73d-108c90b766eb"
      },
      "execution_count": null,
      "outputs": [
        {
          "output_type": "stream",
          "name": "stdout",
          "text": [
            "5\n"
          ]
        }
      ]
    },
    {
      "cell_type": "markdown",
      "source": [
        "Create variables for different password examples\n",
        "Check conditions: not empty, min length (4 chars), max 8 chars\n",
        "Use comparison operators to test each condition\n",
        "Print boolean results for each test"
      ],
      "metadata": {
        "id": "kbainMBqw5YO"
      }
    },
    {
      "cell_type": "code",
      "source": [
        "password = input(\"Enter a password: \")\n",
        "\n",
        "if (len(password) == 0) :\n",
        "  print(bool(0))\n",
        "elif (len(password) >= 4):\n",
        "  print(bool(0))\n",
        "elif (len(password) <= 8):\n",
        "  print(bool(1))\n",
        "else:\n",
        "    print(password)\n"
      ],
      "metadata": {
        "colab": {
          "base_uri": "https://localhost:8080/"
        },
        "id": "ihLaOBKgvUMi",
        "outputId": "34db9dd5-fd0c-423e-9138-2af99e99769a"
      },
      "execution_count": null,
      "outputs": [
        {
          "output_type": "stream",
          "name": "stdout",
          "text": [
            "Enter a password: he\n",
            "True\n"
          ]
        }
      ]
    },
    {
      "cell_type": "code",
      "source": [
        "is_active= True\n",
        "age = 24\n",
        "min_age = 5\n",
        "is_premium = True\n",
        "deactivated_for_security = True\n",
        "meets_maturity_level = True\n",
        "\n",
        "# Business Rule 1: Basic access\n",
        "if (is_active and age >= min_age) or is_premium:\n",
        "    print(\"Basic access allowed\")\n",
        "else:\n",
        "    print(\"Basic access denied\")\n",
        "# Business Rule 2: Admin access\n",
        "if not deactivated_for_security and is_premium and meets_maturity_level:\n",
        "    print(\"Admin access allowed\")\n",
        "else:\n",
        "    print(\"Admin access denied\")\n"
      ],
      "metadata": {
        "colab": {
          "base_uri": "https://localhost:8080/"
        },
        "id": "M5Gy0SWk0OEI",
        "outputId": "f9e3dcd5-06b5-4d97-e030-4b6f262ed36a"
      },
      "execution_count": null,
      "outputs": [
        {
          "output_type": "stream",
          "name": "stdout",
          "text": [
            "Basic access allowed\n",
            "Admin access denied\n"
          ]
        }
      ]
    },
    {
      "cell_type": "markdown",
      "source": [],
      "metadata": {
        "id": "DFSxzli51bZ2"
      }
    },
    {
      "cell_type": "code",
      "source": [
        "for i in range(1,6):\n",
        "    if i%3==0:\n",
        "        print(\"FIZZ\")\n",
        "    else:\n",
        "        print(i)"
      ],
      "metadata": {
        "colab": {
          "base_uri": "https://localhost:8080/"
        },
        "id": "dL_YTjKM04DN",
        "outputId": "e2e07946-ea9c-454a-c4a6-f20c63a8f1ba"
      },
      "execution_count": null,
      "outputs": [
        {
          "output_type": "stream",
          "name": "stdout",
          "text": [
            "1\n",
            "2\n",
            "FIZZ\n",
            "4\n",
            "5\n"
          ]
        }
      ]
    },
    {
      "cell_type": "code",
      "source": [
        "# Example password variables\n",
        "password1 = \"abc\"\n",
        "password2 = \"mypassword\"\n",
        "password3 = \"\"\n",
        "password4 = \"pass123\"\n",
        "\n",
        "# Function to check conditions\n",
        "def check_password(pwd):\n",
        "    not_empty = pwd != \"\"                 # Check not empty\n",
        "    min_length = len(pwd) >= 4            # Check minimum length\n",
        "    max_length = len(pwd) <= 8            # Check maximum length\n",
        "\n",
        "    print(f\"Password: {pwd}\")\n",
        "    print(f\"Not empty: {not_empty}\")\n",
        "    print(f\"Minimum 4 chars: {min_length}\")\n",
        "    print(f\"Maximum 8 chars: {max_length}\")\n",
        "    print(\"-\" * 20)\n",
        "\n",
        "# Test all passwords\n",
        "check_password(password1)\n",
        "check_password(password2)\n",
        "check_password(password3)\n",
        "check_password(password4)\n"
      ],
      "metadata": {
        "colab": {
          "base_uri": "https://localhost:8080/"
        },
        "id": "B2S6hK-yKHTR",
        "outputId": "f4ebdc8e-cd07-415f-a680-47ef8b1f7efb"
      },
      "execution_count": 4,
      "outputs": [
        {
          "output_type": "stream",
          "name": "stdout",
          "text": [
            "Password: abc\n",
            "Not empty: True\n",
            "Minimum 4 chars: False\n",
            "Maximum 8 chars: True\n",
            "--------------------\n",
            "Password: mypassword\n",
            "Not empty: True\n",
            "Minimum 4 chars: True\n",
            "Maximum 8 chars: False\n",
            "--------------------\n",
            "Password: \n",
            "Not empty: False\n",
            "Minimum 4 chars: False\n",
            "Maximum 8 chars: True\n",
            "--------------------\n",
            "Password: pass123\n",
            "Not empty: True\n",
            "Minimum 4 chars: True\n",
            "Maximum 8 chars: True\n",
            "--------------------\n"
          ]
        }
      ]
    }
  ],
  "metadata": {
    "colab": {
      "toc_visible": true,
      "provenance": [],
      "include_colab_link": true
    },
    "kernelspec": {
      "display_name": "Python 3",
      "name": "python3"
    }
  },
  "nbformat": 4,
  "nbformat_minor": 0
}